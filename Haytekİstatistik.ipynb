{
 "cells": [
  {
   "cell_type": "markdown",
   "id": "b83c77f8",
   "metadata": {},
   "source": [
    "## Kütüphaneleri import edelim"
   ]
  },
  {
   "cell_type": "code",
   "execution_count": null,
   "id": "795b197a",
   "metadata": {},
   "outputs": [],
   "source": [
    "import os\n",
    "import pandas as pd\n",
    "import numpy as np\n",
    "import matplotlib as plt\n",
    "import scipy\n",
    "import math"
   ]
  },
  {
   "cell_type": "code",
   "execution_count": null,
   "id": "3494d6ae",
   "metadata": {},
   "outputs": [],
   "source": [
    "path = 'C:/Users/Root/Desktop/İstatistik/haytek.csv'"
   ]
  },
  {
   "cell_type": "code",
   "execution_count": null,
   "id": "10b9c271",
   "metadata": {},
   "outputs": [],
   "source": [
    "data = pd.read_csv(path)"
   ]
  },
  {
   "cell_type": "code",
   "execution_count": null,
   "id": "f1dd854b",
   "metadata": {},
   "outputs": [],
   "source": [
    "data['AYLIK HARCAMALAR']"
   ]
  },
  {
   "cell_type": "code",
   "execution_count": null,
   "id": "75aea4b5",
   "metadata": {},
   "outputs": [],
   "source": [
    "data['AYLIK HARCAMALAR'].values"
   ]
  },
  {
   "cell_type": "markdown",
   "id": "c3580312",
   "metadata": {},
   "source": [
    "## Aritmetik Ortalama Hesabı"
   ]
  },
  {
   "cell_type": "code",
   "execution_count": null,
   "id": "67addddf",
   "metadata": {},
   "outputs": [],
   "source": [
    "data[\"AYLIK HARCAMALAR\"].mean()"
   ]
  },
  {
   "cell_type": "markdown",
   "id": "7c4a9d07",
   "metadata": {},
   "source": [
    "## Geometrik Ortalama"
   ]
  },
  {
   "cell_type": "code",
   "execution_count": null,
   "id": "03b8f17e",
   "metadata": {},
   "outputs": [],
   "source": [
    "scipy.stats.gmean(data[\"AYLIK HARCAMALAR\"])"
   ]
  },
  {
   "cell_type": "markdown",
   "id": "4ae172bd",
   "metadata": {},
   "source": [
    "## Kareli Ortalama"
   ]
  },
  {
   "cell_type": "code",
   "execution_count": null,
   "id": "d69599ab",
   "metadata": {},
   "outputs": [],
   "source": [
    "def karesi(sayi):\n",
    "    return sayi ** 2\n",
    "bos_liste=[]\n",
    "for i in data['AYLIK HARCAMALAR']:\n",
    "    bos_liste.append(karesi(i))\n",
    "\n",
    "df = pd.DataFrame(bos_liste)\n",
    "print(df.values)\n",
    "print(\"Ortalama\" , df.mean())\n",
    "kareliOrt = math.sqrt(df.mean())\n",
    "print(\"kareliOrt\" , kareliOrt)"
   ]
  },
  {
   "cell_type": "markdown",
   "id": "1b81acba",
   "metadata": {},
   "source": [
    "## Mod (Tepe Değer)"
   ]
  },
  {
   "cell_type": "code",
   "execution_count": null,
   "id": "9363df88",
   "metadata": {},
   "outputs": [],
   "source": [
    "data[\"AYLIK HARCAMALAR\"].mode()"
   ]
  },
  {
   "cell_type": "markdown",
   "id": "f7bcd170",
   "metadata": {},
   "source": [
    "## Medyan"
   ]
  },
  {
   "cell_type": "code",
   "execution_count": null,
   "id": "bff15524",
   "metadata": {},
   "outputs": [],
   "source": [
    "data[\"AYLIK HARCAMALAR\"].median()"
   ]
  },
  {
   "cell_type": "markdown",
   "id": "5dc4183a",
   "metadata": {},
   "source": [
    "## Varyans"
   ]
  },
  {
   "cell_type": "code",
   "execution_count": null,
   "id": "ea813289",
   "metadata": {},
   "outputs": [],
   "source": [
    "data[\"AYLIK HARCAMALAR\"].var()"
   ]
  },
  {
   "cell_type": "markdown",
   "id": "d94884ce",
   "metadata": {},
   "source": [
    "## Standart Sapma"
   ]
  },
  {
   "cell_type": "code",
   "execution_count": null,
   "id": "8dde3210",
   "metadata": {},
   "outputs": [],
   "source": [
    "data[\"AYLIK HARCAMALAR\"].std()"
   ]
  },
  {
   "cell_type": "markdown",
   "id": "75b06ae0",
   "metadata": {},
   "source": [
    "## Minimum Değer"
   ]
  },
  {
   "cell_type": "code",
   "execution_count": null,
   "id": "d061e323",
   "metadata": {},
   "outputs": [],
   "source": [
    "min = data[\"AYLIK HARCAMALAR\"].min()"
   ]
  },
  {
   "cell_type": "markdown",
   "id": "be4f280b",
   "metadata": {},
   "source": [
    "## Maximum Değer"
   ]
  },
  {
   "cell_type": "code",
   "execution_count": null,
   "id": "59e8898c",
   "metadata": {},
   "outputs": [],
   "source": [
    "max = data[\"AYLIK HARCAMALAR\"].max()"
   ]
  },
  {
   "cell_type": "markdown",
   "id": "736317b6",
   "metadata": {},
   "source": [
    "## Değişim Aralığı"
   ]
  },
  {
   "cell_type": "code",
   "execution_count": null,
   "id": "4d139a82",
   "metadata": {},
   "outputs": [],
   "source": []
  },
  {
   "cell_type": "code",
   "execution_count": null,
   "id": "3067f8cc",
   "metadata": {},
   "outputs": [],
   "source": []
  }
 ],
 "metadata": {
  "kernelspec": {
   "display_name": "Python 3 (ipykernel)",
   "language": "python",
   "name": "python3"
  },
  "language_info": {
   "codemirror_mode": {
    "name": "ipython",
    "version": 3
   },
   "file_extension": ".py",
   "mimetype": "text/x-python",
   "name": "python",
   "nbconvert_exporter": "python",
   "pygments_lexer": "ipython3",
   "version": "3.9.7"
  }
 },
 "nbformat": 4,
 "nbformat_minor": 5
}
