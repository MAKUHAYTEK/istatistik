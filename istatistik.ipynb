{
 "cells": [
  {
   "cell_type": "code",
   "execution_count": 9,
   "id": "b6bf0573",
   "metadata": {},
   "outputs": [],
   "source": [
    "import os\n",
    "import pandas as pd\n",
    "import numpy as np\n",
    "import matplotlib as plt\n",
    "from scipy import stats\n",
    "import scipy\n",
    "import math"
   ]
  },
  {
   "cell_type": "code",
   "execution_count": 10,
   "id": "2833e0a5",
   "metadata": {},
   "outputs": [],
   "source": [
    "path = 'haytek.csv'"
   ]
  },
  {
   "cell_type": "code",
   "execution_count": 11,
   "id": "ae1c2c43",
   "metadata": {},
   "outputs": [],
   "source": [
    "data = pd.read_csv(path)"
   ]
  },
  {
   "cell_type": "code",
   "execution_count": 12,
   "id": "72108ce4",
   "metadata": {},
   "outputs": [
    {
     "data": {
      "text/plain": [
       "0       200\n",
       "1       250\n",
       "2       300\n",
       "3       320\n",
       "4       320\n",
       "       ... \n",
       "114     950\n",
       "115     980\n",
       "116     980\n",
       "117    1000\n",
       "118    1050\n",
       "Name: AYLIK HARCAMALAR, Length: 119, dtype: int64"
      ]
     },
     "execution_count": 12,
     "metadata": {},
     "output_type": "execute_result"
    }
   ],
   "source": [
    "data['AYLIK HARCAMALAR']"
   ]
  },
  {
   "cell_type": "code",
   "execution_count": 13,
   "id": "6ba48ae4",
   "metadata": {},
   "outputs": [
    {
     "data": {
      "text/plain": [
       "array([ 200,  250,  300,  320,  320,  380,  380,  380,  400,  400,  400,\n",
       "        400,  400,  420,  420,  420,  420,  420,  500,  500,  500,  500,\n",
       "        500,  500,  500,  535,  535,  535,  550,  550,  550,  550,  600,\n",
       "        600,  600,  600,  600,  600,  600,  600,  600,  600,  650,  650,\n",
       "        650,  650,  650,  650,  650,  650,  650,  650,  650,  650,  700,\n",
       "        700,  700,  700,  700,  700,  700,  700,  750,  750,  750,  750,\n",
       "        750,  750,  750,  750,  750,  750,  750,  750,  750,  750,  750,\n",
       "        800,  800,  800,  800,  800,  800,  800,  800,  800,  800,  820,\n",
       "        820,  820,  820,  820,  820,  820,  820,  840,  875,  875,  875,\n",
       "        875,  875,  875,  875,  875,  875,  875,  900,  900,  900,  900,\n",
       "        900,  900,  950,  950,  950,  980,  980, 1000, 1050], dtype=int64)"
      ]
     },
     "execution_count": 13,
     "metadata": {},
     "output_type": "execute_result"
    }
   ],
   "source": [
    "data['AYLIK HARCAMALAR'].values"
   ]
  },
  {
   "cell_type": "markdown",
   "id": "cff1ae0d",
   "metadata": {},
   "source": [
    "## Aritmetik Ortalama Hesabı"
   ]
  },
  {
   "cell_type": "code",
   "execution_count": 14,
   "id": "1ea2a363",
   "metadata": {},
   "outputs": [
    {
     "data": {
      "text/plain": [
       "680.6302521008404"
      ]
     },
     "execution_count": 14,
     "metadata": {},
     "output_type": "execute_result"
    }
   ],
   "source": [
    "data[\"AYLIK HARCAMALAR\"].mean()"
   ]
  },
  {
   "cell_type": "markdown",
   "id": "90d6586a",
   "metadata": {},
   "source": [
    "## Geometrik Ortalama"
   ]
  },
  {
   "cell_type": "code",
   "execution_count": 15,
   "id": "633984cd",
   "metadata": {},
   "outputs": [
    {
     "data": {
      "text/plain": [
       "651.5881034869121"
      ]
     },
     "execution_count": 15,
     "metadata": {},
     "output_type": "execute_result"
    }
   ],
   "source": [
    "scipy.stats.gmean(data[\"AYLIK HARCAMALAR\"])"
   ]
  },
  {
   "cell_type": "markdown",
   "id": "b4ca50b3",
   "metadata": {},
   "source": [
    "## Kareli Ortalama"
   ]
  },
  {
   "cell_type": "code",
   "execution_count": 16,
   "id": "42c73409",
   "metadata": {},
   "outputs": [
    {
     "name": "stdout",
     "output_type": "stream",
     "text": [
      "[[  40000]\n",
      " [  62500]\n",
      " [  90000]\n",
      " [ 102400]\n",
      " [ 102400]\n",
      " [ 144400]\n",
      " [ 144400]\n",
      " [ 144400]\n",
      " [ 160000]\n",
      " [ 160000]\n",
      " [ 160000]\n",
      " [ 160000]\n",
      " [ 160000]\n",
      " [ 176400]\n",
      " [ 176400]\n",
      " [ 176400]\n",
      " [ 176400]\n",
      " [ 176400]\n",
      " [ 250000]\n",
      " [ 250000]\n",
      " [ 250000]\n",
      " [ 250000]\n",
      " [ 250000]\n",
      " [ 250000]\n",
      " [ 250000]\n",
      " [ 286225]\n",
      " [ 286225]\n",
      " [ 286225]\n",
      " [ 302500]\n",
      " [ 302500]\n",
      " [ 302500]\n",
      " [ 302500]\n",
      " [ 360000]\n",
      " [ 360000]\n",
      " [ 360000]\n",
      " [ 360000]\n",
      " [ 360000]\n",
      " [ 360000]\n",
      " [ 360000]\n",
      " [ 360000]\n",
      " [ 360000]\n",
      " [ 360000]\n",
      " [ 422500]\n",
      " [ 422500]\n",
      " [ 422500]\n",
      " [ 422500]\n",
      " [ 422500]\n",
      " [ 422500]\n",
      " [ 422500]\n",
      " [ 422500]\n",
      " [ 422500]\n",
      " [ 422500]\n",
      " [ 422500]\n",
      " [ 422500]\n",
      " [ 490000]\n",
      " [ 490000]\n",
      " [ 490000]\n",
      " [ 490000]\n",
      " [ 490000]\n",
      " [ 490000]\n",
      " [ 490000]\n",
      " [ 490000]\n",
      " [ 562500]\n",
      " [ 562500]\n",
      " [ 562500]\n",
      " [ 562500]\n",
      " [ 562500]\n",
      " [ 562500]\n",
      " [ 562500]\n",
      " [ 562500]\n",
      " [ 562500]\n",
      " [ 562500]\n",
      " [ 562500]\n",
      " [ 562500]\n",
      " [ 562500]\n",
      " [ 562500]\n",
      " [ 562500]\n",
      " [ 640000]\n",
      " [ 640000]\n",
      " [ 640000]\n",
      " [ 640000]\n",
      " [ 640000]\n",
      " [ 640000]\n",
      " [ 640000]\n",
      " [ 640000]\n",
      " [ 640000]\n",
      " [ 640000]\n",
      " [ 672400]\n",
      " [ 672400]\n",
      " [ 672400]\n",
      " [ 672400]\n",
      " [ 672400]\n",
      " [ 672400]\n",
      " [ 672400]\n",
      " [ 672400]\n",
      " [ 705600]\n",
      " [ 765625]\n",
      " [ 765625]\n",
      " [ 765625]\n",
      " [ 765625]\n",
      " [ 765625]\n",
      " [ 765625]\n",
      " [ 765625]\n",
      " [ 765625]\n",
      " [ 765625]\n",
      " [ 765625]\n",
      " [ 810000]\n",
      " [ 810000]\n",
      " [ 810000]\n",
      " [ 810000]\n",
      " [ 810000]\n",
      " [ 810000]\n",
      " [ 902500]\n",
      " [ 902500]\n",
      " [ 902500]\n",
      " [ 960400]\n",
      " [ 960400]\n",
      " [1000000]\n",
      " [1102500]]\n",
      "Ortalama 0    496559.033613\n",
      "dtype: float64\n",
      "kareliOrt 704.6694498936685\n"
     ]
    }
   ],
   "source": [
    "def karesi(sayi):\n",
    "    return sayi ** 2\n",
    "bos_liste=[]\n",
    "for i in data['AYLIK HARCAMALAR']:\n",
    "    bos_liste.append(karesi(i))\n",
    "\n",
    "df = pd.DataFrame(bos_liste)\n",
    "print(df.values)\n",
    "print(\"Ortalama\" , df.mean())\n",
    "kareliOrt = math.sqrt(df.mean())\n",
    "print(\"kareliOrt\" , kareliOrt)"
   ]
  },
  {
   "cell_type": "markdown",
   "id": "32525c92",
   "metadata": {},
   "source": [
    "## Mod (Tepe Değer)"
   ]
  },
  {
   "cell_type": "code",
   "execution_count": 17,
   "id": "459d62be",
   "metadata": {},
   "outputs": [
    {
     "data": {
      "text/plain": [
       "0    750\n",
       "dtype: int64"
      ]
     },
     "execution_count": 17,
     "metadata": {},
     "output_type": "execute_result"
    }
   ],
   "source": [
    "data[\"AYLIK HARCAMALAR\"].mode()"
   ]
  },
  {
   "cell_type": "markdown",
   "id": "7d6a6390",
   "metadata": {},
   "source": [
    "## Medyan"
   ]
  },
  {
   "cell_type": "code",
   "execution_count": 18,
   "id": "02e0a938",
   "metadata": {},
   "outputs": [
    {
     "data": {
      "text/plain": [
       "700.0"
      ]
     },
     "execution_count": 18,
     "metadata": {},
     "output_type": "execute_result"
    }
   ],
   "source": [
    "data[\"AYLIK HARCAMALAR\"].median()"
   ]
  },
  {
   "cell_type": "markdown",
   "id": "f2bc5f8f",
   "metadata": {},
   "source": [
    "## Varyans"
   ]
  },
  {
   "cell_type": "code",
   "execution_count": 19,
   "id": "cd5c0a1c",
   "metadata": {},
   "outputs": [
    {
     "data": {
      "text/plain": [
       "33583.70958552914"
      ]
     },
     "execution_count": 19,
     "metadata": {},
     "output_type": "execute_result"
    }
   ],
   "source": [
    "data[\"AYLIK HARCAMALAR\"].var()"
   ]
  },
  {
   "cell_type": "markdown",
   "id": "686add64",
   "metadata": {},
   "source": [
    "## Standart Sapma"
   ]
  },
  {
   "cell_type": "code",
   "execution_count": 26,
   "id": "b6403f51",
   "metadata": {},
   "outputs": [
    {
     "data": {
      "text/plain": [
       "183.2585866624785"
      ]
     },
     "execution_count": 26,
     "metadata": {},
     "output_type": "execute_result"
    }
   ],
   "source": [
    "std = data[\"AYLIK HARCAMALAR\"].std()\n",
    "std"
   ]
  },
  {
   "cell_type": "markdown",
   "id": "aa377090",
   "metadata": {},
   "source": [
    "## Minimum"
   ]
  },
  {
   "cell_type": "code",
   "execution_count": 27,
   "id": "bbe89605",
   "metadata": {},
   "outputs": [
    {
     "data": {
      "text/plain": [
       "200"
      ]
     },
     "execution_count": 27,
     "metadata": {},
     "output_type": "execute_result"
    }
   ],
   "source": [
    "min = data[\"AYLIK HARCAMALAR\"].min()\n",
    "min"
   ]
  },
  {
   "cell_type": "markdown",
   "id": "66856ea0",
   "metadata": {},
   "source": [
    "## Maksimum"
   ]
  },
  {
   "cell_type": "code",
   "execution_count": 28,
   "id": "eb9f2643",
   "metadata": {},
   "outputs": [
    {
     "data": {
      "text/plain": [
       "1050"
      ]
     },
     "execution_count": 28,
     "metadata": {},
     "output_type": "execute_result"
    }
   ],
   "source": [
    "max = data[\"AYLIK HARCAMALAR\"].max()\n",
    "max"
   ]
  },
  {
   "cell_type": "markdown",
   "id": "4d215b36",
   "metadata": {},
   "source": [
    "## Değişim Aralığı"
   ]
  },
  {
   "cell_type": "code",
   "execution_count": 29,
   "id": "eed6c86f",
   "metadata": {},
   "outputs": [
    {
     "data": {
      "text/plain": [
       "850"
      ]
     },
     "execution_count": 29,
     "metadata": {},
     "output_type": "execute_result"
    }
   ],
   "source": [
    "range = max - min\n",
    "range"
   ]
  },
  {
   "cell_type": "markdown",
   "id": "611c60e0",
   "metadata": {},
   "source": [
    "## Standart hata"
   ]
  },
  {
   "cell_type": "code",
   "execution_count": 37,
   "id": "85832c1f",
   "metadata": {},
   "outputs": [
    {
     "data": {
      "text/plain": [
       "16.799287096100826"
      ]
     },
     "execution_count": 37,
     "metadata": {},
     "output_type": "execute_result"
    }
   ],
   "source": [
    "kareliOrt = math.sqrt(119)\n",
    "hata = std / kareliOrt\n",
    "hata"
   ]
  },
  {
   "cell_type": "code",
   "execution_count": null,
   "id": "2094e8a6",
   "metadata": {},
   "outputs": [],
   "source": []
  }
 ],
 "metadata": {
  "kernelspec": {
   "display_name": "Python 3 (ipykernel)",
   "language": "python",
   "name": "python3"
  },
  "language_info": {
   "codemirror_mode": {
    "name": "ipython",
    "version": 3
   },
   "file_extension": ".py",
   "mimetype": "text/x-python",
   "name": "python",
   "nbconvert_exporter": "python",
   "pygments_lexer": "ipython3",
   "version": "3.9.7"
  }
 },
 "nbformat": 4,
 "nbformat_minor": 5
}
